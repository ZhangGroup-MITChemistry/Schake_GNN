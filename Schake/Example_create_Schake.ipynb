{
 "cells": [
  {
   "cell_type": "markdown",
   "id": "3f4c35d4-2bae-4a2b-887c-6a2045f92732",
   "metadata": {},
   "source": [
    "This notebook shows how to easily create a SAKE model using the provided code"
   ]
  },
  {
   "cell_type": "code",
   "execution_count": 1,
   "id": "39baf20e-22de-4d9b-ba0e-8aee3a911295",
   "metadata": {},
   "outputs": [
    {
     "name": "stdout",
     "output_type": "stream",
     "text": [
      "Intel MKL WARNING: Support of Intel(R) Streaming SIMD Extensions 4.2 (Intel(R) SSE4.2) enabled only processors has been deprecated. Intel oneAPI Math Kernel Library 2025.0 will require Intel(R) Advanced Vector Extensions (Intel(R) AVX) instructions.\n",
      "Intel MKL WARNING: Support of Intel(R) Streaming SIMD Extensions 4.2 (Intel(R) SSE4.2) enabled only processors has been deprecated. Intel oneAPI Math Kernel Library 2025.0 will require Intel(R) Advanced Vector Extensions (Intel(R) AVX) instructions.\n"
     ]
    }
   ],
   "source": [
    "import torch\n",
    "import sys\n",
    "sys.path.append(\".\")  # Set pathway here\n",
    "import Schake_model_v1 as Schake"
   ]
  },
  {
   "cell_type": "markdown",
   "id": "3e43fd1a-79d1-44e2-a8a7-653c8f975c80",
   "metadata": {},
   "source": [
    "Run code to create Schake model"
   ]
  },
  {
   "cell_type": "code",
   "execution_count": 2,
   "id": "e42633ac-27c3-4154-84e4-c9596756a45a",
   "metadata": {},
   "outputs": [],
   "source": [
    "model = Schake.create_Schake(hidden_channels = 32, \n",
    "                             num_layers = 4, \n",
    "                             kernel_size = 18,\n",
    "                             cosine_offset = 0.5,\n",
    "                             sake_low_cut = 0, \n",
    "                             sake_high_cut = 0.5, \n",
    "                             schnet_low_cut = 0.5, \n",
    "                             schnet_high_cut = 2.5, \n",
    "                             schnet_act = torch.nn.CELU(alpha=2.0), \n",
    "                             sake_act = torch.nn.CELU(alpha=2.0), \n",
    "                             out_act = torch.nn.CELU(alpha=2.0),\n",
    "                             schnet_sel = 1,      # Selects atomtype matching embedding 1 \n",
    "                             #schnet_sel = None,  # None avoids filtering\n",
    "                             num_heads = 4, \n",
    "                             embed_type = 'names', \n",
    "                             num_out_layers = 3,\n",
    "                             max_num_neigh = 10000,\n",
    "                             normalize = False,\n",
    "                             device = 'cpu')"
   ]
  },
  {
   "cell_type": "code",
   "execution_count": 3,
   "id": "764a2d9a-cd51-4d00-b5ec-7d710601fbfd",
   "metadata": {},
   "outputs": [
    {
     "data": {
      "text/plain": [
       "Schake_modular(\n",
       "  (embedding_in): Embedding(83, 32)\n",
       "  (embedding_out): Linear(in_features=32, out_features=32, bias=True)\n",
       "  (sake_rbf_func): expnorm_smearing()\n",
       "  (schnet_rbf_func): expnorm_smearing()\n",
       "  (sake_layers): ModuleList(\n",
       "    (0-3): 4 x SAKELayer(\n",
       "      (edge_mlp): Sequential(\n",
       "        (0): Linear(in_features=97, out_features=32, bias=True)\n",
       "        (1): CELU(alpha=2.0)\n",
       "        (2): Linear(in_features=32, out_features=32, bias=True)\n",
       "        (3): CELU(alpha=2.0)\n",
       "      )\n",
       "      (node_mlp): Sequential(\n",
       "        (0): Linear(in_features=96, out_features=32, bias=True)\n",
       "        (1): CELU(alpha=2.0)\n",
       "        (2): Linear(in_features=32, out_features=32, bias=True)\n",
       "        (3): CELU(alpha=2.0)\n",
       "      )\n",
       "      (spatial_att_mlp): Linear(in_features=32, out_features=4, bias=True)\n",
       "      (semantic_att_mlp): Sequential(\n",
       "        (0): Linear(in_features=32, out_features=4, bias=True)\n",
       "        (1): CELU(alpha=2.0)\n",
       "        (2): Linear(in_features=4, out_features=1, bias=True)\n",
       "      )\n",
       "      (rbf_model): Linear(in_features=18, out_features=32, bias=True)\n",
       "      (filter_nn): Sequential(\n",
       "        (0): Linear(in_features=64, out_features=64, bias=True)\n",
       "        (1): CELU(alpha=2.0)\n",
       "        (2): Linear(in_features=64, out_features=32, bias=True)\n",
       "      )\n",
       "      (mu): Sequential(\n",
       "        (0): Linear(in_features=4, out_features=32, bias=True)\n",
       "        (1): CELU(alpha=2.0)\n",
       "        (2): Linear(in_features=32, out_features=32, bias=True)\n",
       "        (3): CELU(alpha=2.0)\n",
       "      )\n",
       "    )\n",
       "  )\n",
       "  (schnet_layers): ModuleList(\n",
       "    (0-3): 4 x InteractionBlock(\n",
       "      (filter_nn): Sequential(\n",
       "        (0): Linear(in_features=18, out_features=32, bias=True)\n",
       "        (1): CELU(alpha=2.0)\n",
       "        (2): Linear(in_features=32, out_features=32, bias=True)\n",
       "      )\n",
       "      (conv): CFConv()\n",
       "      (act): CELU(alpha=2.0)\n",
       "      (linear3): Linear(in_features=32, out_features=32, bias=True)\n",
       "    )\n",
       "  )\n",
       "  (energy_network): Sequential(\n",
       "    (0): Linear(in_features=32, out_features=16, bias=True)\n",
       "    (1): CELU(alpha=2.0)\n",
       "    (2): Linear(in_features=16, out_features=8, bias=True)\n",
       "    (3): CELU(alpha=2.0)\n",
       "    (4): Linear(in_features=8, out_features=1, bias=True)\n",
       "  )\n",
       ")"
      ]
     },
     "execution_count": 3,
     "metadata": {},
     "output_type": "execute_result"
    }
   ],
   "source": [
    "model"
   ]
  },
  {
   "cell_type": "markdown",
   "id": "60c0c3c8-6f50-4948-910f-8105f2318aa5",
   "metadata": {},
   "source": [
    "Create dummy molecule to input to model"
   ]
  },
  {
   "cell_type": "markdown",
   "id": "e3f144ed-717d-4bf7-86c3-868d80326680",
   "metadata": {},
   "source": [
    "Isopropyl Sulfide"
   ]
  },
  {
   "cell_type": "code",
   "execution_count": 4,
   "id": "4534e5ad-4c08-4b6a-8f44-4e48fe5086d6",
   "metadata": {},
   "outputs": [],
   "source": [
    "# Set coordinates (units of angstroms)\n",
    "coords = torch.Tensor([[-1.96430671,  0.31051004, -1.19996035],\n",
    "                       [-0.73622882, -0.72752088, -1.01535392],\n",
    "                       [-0.31321597, -1.34827518, -2.37928247],\n",
    "                       [ 0.66871333, -0.02617523, -0.19206515],\n",
    "                       [ 0.5306921 , -0.4202556 ,  1.58075047],\n",
    "                       [-0.70359355,  0.3118152 ,  2.04930782],\n",
    "                       [ 1.73722041,  0.19472905,  2.38563561],\n",
    "                       [-2.5447526 , -0.15219232, -2.0220902 ],\n",
    "                       [-1.59456003,  1.33184624, -1.40155053],\n",
    "                       [-2.54677987,  0.50790024, -0.19426368],\n",
    "                       [-1.09588408, -1.29260612, -0.15630379],\n",
    "                       [ 0.71891737, -1.72426915, -2.38179493],\n",
    "                       [-1.09203029, -2.00252628, -2.73346186],\n",
    "                       [-0.32819545, -0.57277346, -3.17117214],\n",
    "                       [ 0.64011461, -1.53141069,  1.76843905],\n",
    "                       [-1.12419271,  0.97337341,  1.3624804 ],\n",
    "                       [-0.48255327,  0.92818391,  2.98026752],\n",
    "                       [-1.46087456, -0.40343699,  2.31385899],\n",
    "                       [ 2.58227634, -0.45088139,  2.34737015],\n",
    "                       [ 1.82486057,  1.24805963,  2.03895712],\n",
    "                       [ 1.6380769 ,  0.33527586,  3.53223348]]) * 0.1 # convert to nm\n",
    "\n",
    "# Set atomtypes (GAFF)\n",
    "atomtypes = ['c3', 'c3', 'c3', 'ss', 'c3', 'c3', 'c3', 'hc', 'hc', 'hc', 'h1',\n",
    "             'hc', 'hc', 'hc', 'h1', 'hc', 'hc', 'hc', 'hc', 'hc', 'hc']\n",
    "\n",
    "# Create embedding for atomtypes (arbitrary embedding used here)\n",
    "embedding = torch.LongTensor([0, 0, 0, 1, 0, 0, 0, 2, 2, 2, 3, 2, 2, 2, 3, 2, 2, 2, 2, 2, 2])\n",
    "\n",
    "# Create batch tensor\n",
    "batch = torch.zeros_like(embedding)"
   ]
  },
  {
   "cell_type": "markdown",
   "id": "fbb3b3a2-0904-47e5-adb5-0114e9139687",
   "metadata": {},
   "source": [
    "Get energy and force prediction from SAKE"
   ]
  },
  {
   "cell_type": "code",
   "execution_count": 5,
   "id": "bf742848-66ce-48a4-a2a5-9df9975a6d7d",
   "metadata": {},
   "outputs": [
    {
     "name": "stdout",
     "output_type": "stream",
     "text": [
      "Intel MKL WARNING: Support of Intel(R) Streaming SIMD Extensions 4.2 (Intel(R) SSE4.2) enabled only processors has been deprecated. Intel oneAPI Math Kernel Library 2025.0 will require Intel(R) Advanced Vector Extensions (Intel(R) AVX) instructions.\n",
      "Intel MKL WARNING: Support of Intel(R) Streaming SIMD Extensions 4.2 (Intel(R) SSE4.2) enabled only processors has been deprecated. Intel oneAPI Math Kernel Library 2025.0 will require Intel(R) Advanced Vector Extensions (Intel(R) AVX) instructions.\n",
      "Intel MKL WARNING: Support of Intel(R) Streaming SIMD Extensions 4.2 (Intel(R) SSE4.2) enabled only processors has been deprecated. Intel oneAPI Math Kernel Library 2025.0 will require Intel(R) Advanced Vector Extensions (Intel(R) AVX) instructions.\n",
      "Intel MKL WARNING: Support of Intel(R) Streaming SIMD Extensions 4.2 (Intel(R) SSE4.2) enabled only processors has been deprecated. Intel oneAPI Math Kernel Library 2025.0 will require Intel(R) Advanced Vector Extensions (Intel(R) AVX) instructions.\n"
     ]
    }
   ],
   "source": [
    "# Set coords to require_grad\n",
    "coords.requires_grad_(True)\n",
    "\n",
    "# Compute energies\n",
    "U_pred = model(embedding, coords, batch)\n",
    "\n",
    "# Set grad outputs\n",
    "grad_outputs = [torch.ones_like(U_pred)]\n",
    "\n",
    "# Compute forces\n",
    "F_pred = -torch.autograd.grad([U_pred],\n",
    "                              [coords],\n",
    "                              grad_outputs=grad_outputs,\n",
    "                              create_graph=True,\n",
    "                              retain_graph=True\n",
    "                             )[0]"
   ]
  },
  {
   "cell_type": "markdown",
   "id": "119f464e-f17c-4713-b96a-d9527077954c",
   "metadata": {},
   "source": [
    "Print outputs"
   ]
  },
  {
   "cell_type": "code",
   "execution_count": 6,
   "id": "690c1059-600e-4e75-a4d3-8ce7502e0633",
   "metadata": {},
   "outputs": [
    {
     "name": "stdout",
     "output_type": "stream",
     "text": [
      "Energy: 3.917 kJ/mol\n",
      "\n",
      "Forces (in kJ/mol/nm):\n",
      "tensor([[-4.1480e-04, -1.5626e-03, -6.9167e-03],\n",
      "        [ 2.7790e-03,  8.2153e-03,  7.2570e-03],\n",
      "        [-7.6717e-03,  4.6120e-03, -5.8667e-03],\n",
      "        [-1.9928e-02, -8.3908e-03,  1.2441e-02],\n",
      "        [-3.6314e-03,  5.3461e-03, -6.5350e-03],\n",
      "        [ 8.7607e-03,  3.2686e-05, -7.3707e-03],\n",
      "        [-2.5678e-03,  1.9912e-03,  7.2989e-03],\n",
      "        [ 9.7536e-03, -1.4699e-05,  1.0006e-03],\n",
      "        [ 3.4913e-04, -8.1564e-03,  4.3534e-04],\n",
      "        [ 1.1763e-02, -1.4022e-03, -1.4344e-03],\n",
      "        [-1.2447e-02, -1.2305e-02, -3.0892e-03],\n",
      "        [-6.5812e-03,  5.3779e-03, -4.5154e-03],\n",
      "        [ 2.0958e-03,  1.2365e-02,  6.5001e-03],\n",
      "        [-6.5587e-03,  7.1730e-04,  3.8638e-03],\n",
      "        [ 1.2421e-02, -3.8652e-03,  1.8774e-02],\n",
      "        [ 1.0793e-02, -1.4696e-02, -1.1709e-02],\n",
      "        [ 5.9829e-03,  4.3622e-04, -1.2868e-03],\n",
      "        [ 1.2558e-02,  7.4629e-03, -1.0459e-02],\n",
      "        [-6.3799e-03,  5.7675e-03,  3.8518e-03],\n",
      "        [-5.3823e-03, -2.5802e-03,  6.3812e-03],\n",
      "        [-5.6940e-03,  6.4760e-04, -8.6209e-03]])\n"
     ]
    }
   ],
   "source": [
    "print(\"Energy: {:.3f} kJ/mol\".format(U_pred))\n",
    "print(\"\\nForces (in kJ/mol/nm):\")\n",
    "print(F_pred.detach())"
   ]
  },
  {
   "cell_type": "code",
   "execution_count": null,
   "id": "46cc8951-f461-441a-82ae-480c15ffc450",
   "metadata": {},
   "outputs": [],
   "source": []
  }
 ],
 "metadata": {
  "kernelspec": {
   "display_name": "Python [conda env:GNN_2023]",
   "language": "python",
   "name": "conda-env-GNN_2023-py"
  },
  "language_info": {
   "codemirror_mode": {
    "name": "ipython",
    "version": 3
   },
   "file_extension": ".py",
   "mimetype": "text/x-python",
   "name": "python",
   "nbconvert_exporter": "python",
   "pygments_lexer": "ipython3",
   "version": "3.11.5"
  }
 },
 "nbformat": 4,
 "nbformat_minor": 5
}
