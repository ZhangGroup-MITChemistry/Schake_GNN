{
 "cells": [
  {
   "cell_type": "markdown",
   "id": "3f4c35d4-2bae-4a2b-887c-6a2045f92732",
   "metadata": {},
   "source": [
    "This notebook shows how to easily create a SAKE model using the provided code"
   ]
  },
  {
   "cell_type": "code",
   "execution_count": 1,
   "id": "39baf20e-22de-4d9b-ba0e-8aee3a911295",
   "metadata": {},
   "outputs": [
    {
     "name": "stdout",
     "output_type": "stream",
     "text": [
      "Intel MKL WARNING: Support of Intel(R) Streaming SIMD Extensions 4.2 (Intel(R) SSE4.2) enabled only processors has been deprecated. Intel oneAPI Math Kernel Library 2025.0 will require Intel(R) Advanced Vector Extensions (Intel(R) AVX) instructions.\n",
      "Intel MKL WARNING: Support of Intel(R) Streaming SIMD Extensions 4.2 (Intel(R) SSE4.2) enabled only processors has been deprecated. Intel oneAPI Math Kernel Library 2025.0 will require Intel(R) Advanced Vector Extensions (Intel(R) AVX) instructions.\n"
     ]
    }
   ],
   "source": [
    "import torch\n",
    "import sys\n",
    "sys.path.append(\".\")  # Set pathway here\n",
    "import SAKE_model_v1 as SAKE"
   ]
  },
  {
   "cell_type": "markdown",
   "id": "3e43fd1a-79d1-44e2-a8a7-653c8f975c80",
   "metadata": {},
   "source": [
    "Run code to create SAKE layers"
   ]
  },
  {
   "cell_type": "code",
   "execution_count": 2,
   "id": "e42633ac-27c3-4154-84e4-c9596756a45a",
   "metadata": {},
   "outputs": [],
   "source": [
    "embed_in, embed_out,\\\n",
    "sake_block, energy_NN = SAKE.create_SAKE_layers(in_node_nf=1, \n",
    "                                                hidden_nf=32, \n",
    "                                                out_node_nf=32, \n",
    "                                                act_fn=torch.nn.CELU(alpha=2.0), \n",
    "                                                energy_act_fn=torch.nn.CELU(alpha=2.0), \n",
    "                                                n_layers=4,\n",
    "                                                n_heads=4,\n",
    "                                                cutoff=1,\n",
    "                                                kernel_size = 18,\n",
    "                                                embed_type = 'gaff',\n",
    "                                                normalize = False\n",
    "                                               )"
   ]
  },
  {
   "cell_type": "markdown",
   "id": "2c45aec7-7ca1-4624-8472-634292e0a97b",
   "metadata": {},
   "source": [
    "Run code to create model"
   ]
  },
  {
   "cell_type": "code",
   "execution_count": 3,
   "id": "d02694e2-eafe-435c-9680-e00f988f4e85",
   "metadata": {},
   "outputs": [],
   "source": [
    "model = SAKE.SAKE_modular(embedding_in=embed_in,\n",
    "                          embedding_out=embed_out,\n",
    "                          sake_conv=sake_block,\n",
    "                          energy_network=energy_NN,\n",
    "                          device='cpu', \n",
    "                          cutoff=1,\n",
    "                          max_num_neighbors=1000\n",
    "                         )"
   ]
  },
  {
   "cell_type": "code",
   "execution_count": 4,
   "id": "764a2d9a-cd51-4d00-b5ec-7d710601fbfd",
   "metadata": {},
   "outputs": [
    {
     "data": {
      "text/plain": [
       "SAKE_modular(\n",
       "  (embedding_in): Embedding(97, 32)\n",
       "  (embedding_out): Linear(in_features=32, out_features=32, bias=True)\n",
       "  (sake_conv): ModuleList(\n",
       "    (0-3): 4 x SAKELayer(\n",
       "      (edge_mlp): Sequential(\n",
       "        (0): Linear(in_features=97, out_features=32, bias=True)\n",
       "        (1): CELU(alpha=2.0)\n",
       "        (2): Linear(in_features=32, out_features=32, bias=True)\n",
       "        (3): CELU(alpha=2.0)\n",
       "      )\n",
       "      (node_mlp): Sequential(\n",
       "        (0): Linear(in_features=96, out_features=32, bias=True)\n",
       "        (1): CELU(alpha=2.0)\n",
       "        (2): Linear(in_features=32, out_features=32, bias=True)\n",
       "        (3): CELU(alpha=2.0)\n",
       "      )\n",
       "      (spatial_att_mlp): Linear(in_features=32, out_features=4, bias=True)\n",
       "      (semantic_att_mlp): Sequential(\n",
       "        (0): Linear(in_features=32, out_features=4, bias=True)\n",
       "        (1): CELU(alpha=2.0)\n",
       "        (2): Linear(in_features=4, out_features=1, bias=True)\n",
       "      )\n",
       "      (rbf): Sequential(\n",
       "        (0): expnorm_smearing()\n",
       "        (1): Linear(in_features=18, out_features=32, bias=True)\n",
       "      )\n",
       "      (filter_nn): Sequential(\n",
       "        (0): Linear(in_features=64, out_features=64, bias=True)\n",
       "        (1): CELU(alpha=2.0)\n",
       "        (2): Linear(in_features=64, out_features=32, bias=True)\n",
       "      )\n",
       "      (mu): Sequential(\n",
       "        (0): Linear(in_features=4, out_features=32, bias=True)\n",
       "        (1): CELU(alpha=2.0)\n",
       "        (2): Linear(in_features=32, out_features=32, bias=True)\n",
       "        (3): CELU(alpha=2.0)\n",
       "      )\n",
       "    )\n",
       "  )\n",
       "  (energy_network): Sequential(\n",
       "    (0): Linear(in_features=32, out_features=16, bias=True)\n",
       "    (1): CELU(alpha=2.0)\n",
       "    (2): Linear(in_features=16, out_features=8, bias=True)\n",
       "    (3): CELU(alpha=2.0)\n",
       "    (4): Linear(in_features=8, out_features=1, bias=True)\n",
       "  )\n",
       ")"
      ]
     },
     "execution_count": 4,
     "metadata": {},
     "output_type": "execute_result"
    }
   ],
   "source": [
    "model"
   ]
  },
  {
   "cell_type": "markdown",
   "id": "60c0c3c8-6f50-4948-910f-8105f2318aa5",
   "metadata": {},
   "source": [
    "Create dummy molecule to input to model"
   ]
  },
  {
   "cell_type": "markdown",
   "id": "e3f144ed-717d-4bf7-86c3-868d80326680",
   "metadata": {},
   "source": [
    "Isopropyl Sulfide"
   ]
  },
  {
   "cell_type": "code",
   "execution_count": 5,
   "id": "4534e5ad-4c08-4b6a-8f44-4e48fe5086d6",
   "metadata": {},
   "outputs": [],
   "source": [
    "# Set coordinates (units of angstroms)\n",
    "coords = torch.Tensor([[-1.96430671,  0.31051004, -1.19996035],\n",
    "                       [-0.73622882, -0.72752088, -1.01535392],\n",
    "                       [-0.31321597, -1.34827518, -2.37928247],\n",
    "                       [ 0.66871333, -0.02617523, -0.19206515],\n",
    "                       [ 0.5306921 , -0.4202556 ,  1.58075047],\n",
    "                       [-0.70359355,  0.3118152 ,  2.04930782],\n",
    "                       [ 1.73722041,  0.19472905,  2.38563561],\n",
    "                       [-2.5447526 , -0.15219232, -2.0220902 ],\n",
    "                       [-1.59456003,  1.33184624, -1.40155053],\n",
    "                       [-2.54677987,  0.50790024, -0.19426368],\n",
    "                       [-1.09588408, -1.29260612, -0.15630379],\n",
    "                       [ 0.71891737, -1.72426915, -2.38179493],\n",
    "                       [-1.09203029, -2.00252628, -2.73346186],\n",
    "                       [-0.32819545, -0.57277346, -3.17117214],\n",
    "                       [ 0.64011461, -1.53141069,  1.76843905],\n",
    "                       [-1.12419271,  0.97337341,  1.3624804 ],\n",
    "                       [-0.48255327,  0.92818391,  2.98026752],\n",
    "                       [-1.46087456, -0.40343699,  2.31385899],\n",
    "                       [ 2.58227634, -0.45088139,  2.34737015],\n",
    "                       [ 1.82486057,  1.24805963,  2.03895712],\n",
    "                       [ 1.6380769 ,  0.33527586,  3.53223348]]) * 0.1 # convert to nm\n",
    "\n",
    "# Set atomtypes (GAFF)\n",
    "atomtypes = ['c3', 'c3', 'c3', 'ss', 'c3', 'c3', 'c3', 'hc', 'hc', 'hc', 'h1',\n",
    "             'hc', 'hc', 'hc', 'h1', 'hc', 'hc', 'hc', 'hc', 'hc', 'hc']\n",
    "\n",
    "# Create embedding for atomtypes (arbitrary embedding used here)\n",
    "embedding = torch.LongTensor([0, 0, 0, 1, 0, 0, 0, 2, 2, 2, 3, 2, 2, 2, 3, 2, 2, 2, 2, 2, 2])\n",
    "\n",
    "# Create batch tensor\n",
    "batch = torch.zeros_like(embedding)"
   ]
  },
  {
   "cell_type": "markdown",
   "id": "fbb3b3a2-0904-47e5-adb5-0114e9139687",
   "metadata": {},
   "source": [
    "Get energy and force prediction from SAKE"
   ]
  },
  {
   "cell_type": "code",
   "execution_count": 6,
   "id": "bf742848-66ce-48a4-a2a5-9df9975a6d7d",
   "metadata": {},
   "outputs": [
    {
     "name": "stdout",
     "output_type": "stream",
     "text": [
      "Intel MKL WARNING: Support of Intel(R) Streaming SIMD Extensions 4.2 (Intel(R) SSE4.2) enabled only processors has been deprecated. Intel oneAPI Math Kernel Library 2025.0 will require Intel(R) Advanced Vector Extensions (Intel(R) AVX) instructions.\n",
      "Intel MKL WARNING: Support of Intel(R) Streaming SIMD Extensions 4.2 (Intel(R) SSE4.2) enabled only processors has been deprecated. Intel oneAPI Math Kernel Library 2025.0 will require Intel(R) Advanced Vector Extensions (Intel(R) AVX) instructions.\n",
      "Intel MKL WARNING: Support of Intel(R) Streaming SIMD Extensions 4.2 (Intel(R) SSE4.2) enabled only processors has been deprecated. Intel oneAPI Math Kernel Library 2025.0 will require Intel(R) Advanced Vector Extensions (Intel(R) AVX) instructions.\n",
      "Intel MKL WARNING: Support of Intel(R) Streaming SIMD Extensions 4.2 (Intel(R) SSE4.2) enabled only processors has been deprecated. Intel oneAPI Math Kernel Library 2025.0 will require Intel(R) Advanced Vector Extensions (Intel(R) AVX) instructions.\n"
     ]
    }
   ],
   "source": [
    "# Set coords to require_grad\n",
    "coords.requires_grad_(True)\n",
    "\n",
    "# Compute energies\n",
    "U_pred = model(embedding, coords, batch)\n",
    "\n",
    "# Set grad outputs\n",
    "grad_outputs = [torch.ones_like(U_pred)]\n",
    "\n",
    "# Compute forces\n",
    "F_pred = -torch.autograd.grad([U_pred],\n",
    "                              [coords],\n",
    "                              grad_outputs=grad_outputs,\n",
    "                              create_graph=True,\n",
    "                              retain_graph=True\n",
    "                             )[0]"
   ]
  },
  {
   "cell_type": "markdown",
   "id": "119f464e-f17c-4713-b96a-d9527077954c",
   "metadata": {},
   "source": [
    "Print outputs"
   ]
  },
  {
   "cell_type": "code",
   "execution_count": 7,
   "id": "690c1059-600e-4e75-a4d3-8ce7502e0633",
   "metadata": {},
   "outputs": [
    {
     "name": "stdout",
     "output_type": "stream",
     "text": [
      "Energy: 7.618 kJ/mol\n",
      "\n",
      "Forces (in kJ/mol/nm):\n",
      "tensor([[ 1.1607e-02,  5.4161e-03,  1.7627e-02],\n",
      "        [ 6.0548e-03, -5.4709e-03,  4.7408e-03],\n",
      "        [ 1.0213e-02,  1.0576e-02,  3.3032e-02],\n",
      "        [ 4.1443e-02,  7.8282e-03, -1.9574e-02],\n",
      "        [ 6.3954e-04, -1.0519e-02, -9.0821e-03],\n",
      "        [-8.2678e-03, -1.3124e-04, -5.6003e-03],\n",
      "        [-2.1133e-02, -3.2958e-03, -3.6705e-02],\n",
      "        [-7.3785e-03, -5.2298e-03, -1.3119e-02],\n",
      "        [-1.2958e-02,  1.1036e-02, -1.1712e-02],\n",
      "        [-3.0177e-02,  3.5716e-03, -9.6070e-03],\n",
      "        [-6.9526e-03, -9.0757e-03,  3.8340e-03],\n",
      "        [ 5.5951e-03, -2.1192e-02, -3.9062e-02],\n",
      "        [-1.3080e-03, -1.2283e-02, -1.6639e-02],\n",
      "        [-1.6144e-03, -1.7090e-03, -2.6361e-02],\n",
      "        [ 1.1273e-03, -1.0284e-02,  4.1461e-03],\n",
      "        [-2.0115e-02,  2.7483e-02,  1.8239e-02],\n",
      "        [ 5.4413e-03,  5.5798e-03,  1.5405e-02],\n",
      "        [-1.9507e-02, -1.0596e-03,  3.3376e-02],\n",
      "        [ 1.9910e-02, -4.3159e-03,  1.7372e-02],\n",
      "        [ 1.4101e-02,  1.3104e-02,  2.1782e-02],\n",
      "        [ 1.3277e-02, -2.8792e-05,  1.7907e-02]])\n"
     ]
    }
   ],
   "source": [
    "print(\"Energy: {:.3f} kJ/mol\".format(U_pred))\n",
    "print(\"\\nForces (in kJ/mol/nm):\")\n",
    "print(F_pred.detach())"
   ]
  },
  {
   "cell_type": "code",
   "execution_count": null,
   "id": "46cc8951-f461-441a-82ae-480c15ffc450",
   "metadata": {},
   "outputs": [],
   "source": []
  }
 ],
 "metadata": {
  "kernelspec": {
   "display_name": "Python [conda env:GNN_2023]",
   "language": "python",
   "name": "conda-env-GNN_2023-py"
  },
  "language_info": {
   "codemirror_mode": {
    "name": "ipython",
    "version": 3
   },
   "file_extension": ".py",
   "mimetype": "text/x-python",
   "name": "python",
   "nbconvert_exporter": "python",
   "pygments_lexer": "ipython3",
   "version": "3.11.5"
  }
 },
 "nbformat": 4,
 "nbformat_minor": 5
}
