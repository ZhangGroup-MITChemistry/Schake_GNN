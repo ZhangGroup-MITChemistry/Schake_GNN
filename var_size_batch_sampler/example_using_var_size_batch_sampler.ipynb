{
 "cells": [
  {
   "cell_type": "code",
   "execution_count": 1,
   "id": "1ddc6a5c-8793-4690-83d5-89e6dde5e04d",
   "metadata": {},
   "outputs": [
    {
     "name": "stdout",
     "output_type": "stream",
     "text": [
      "Intel MKL WARNING: Support of Intel(R) Streaming SIMD Extensions 4.2 (Intel(R) SSE4.2) enabled only processors has been deprecated. Intel oneAPI Math Kernel Library 2025.0 will require Intel(R) Advanced Vector Extensions (Intel(R) AVX) instructions.\n",
      "Intel MKL WARNING: Support of Intel(R) Streaming SIMD Extensions 4.2 (Intel(R) SSE4.2) enabled only processors has been deprecated. Intel oneAPI Math Kernel Library 2025.0 will require Intel(R) Advanced Vector Extensions (Intel(R) AVX) instructions.\n"
     ]
    }
   ],
   "source": [
    "import torch\n",
    "import sys\n",
    "sys.path.append(\".\") # Set pathway to dataset_prep and VarBatchSampler code here\n",
    "import dataset_prep as dsp\n",
    "import VarBatchSampler as vbs"
   ]
  },
  {
   "cell_type": "markdown",
   "id": "3962795a-dcc6-45c5-a459-1ab31ea38512",
   "metadata": {},
   "source": [
    "Load the benchmarking dataset as an example"
   ]
  },
  {
   "cell_type": "code",
   "execution_count": 2,
   "id": "2ae48613-43e3-49be-9211-10331aea8565",
   "metadata": {},
   "outputs": [],
   "source": [
    "# Set pathway to dataset\n",
    "path = '.'  # Set pathway to benchmarking datasets\n",
    "\n",
    "# Load the datasets\n",
    "dataset_1 = torch.load(\"{}/SPAF_dataset_benchmark_pt1.pt\".format(path))\n",
    "dataset_2 = torch.load(\"{}/SPAF_dataset_benchmark_pt2.pt\".format(path))\n",
    "\n",
    "# Combine datasets\n",
    "dataset = torch.utils.data.ConcatDataset([dataset_1, dataset_2])"
   ]
  },
  {
   "cell_type": "markdown",
   "id": "6f9df7c1-4e16-443e-a5c8-b9b0f1c39cf6",
   "metadata": {},
   "source": [
    "Print a sample from the dataset to showcase how the data is organized"
   ]
  },
  {
   "cell_type": "markdown",
   "id": "837d98b5-5484-49b3-a619-15fc39e6a650",
   "metadata": {},
   "source": [
    "Note that all datasets (lim2000, res400, and res400+) are organized in this way"
   ]
  },
  {
   "cell_type": "code",
   "execution_count": 3,
   "id": "c021b742-8408-4649-bf59-e814acbda0f4",
   "metadata": {},
   "outputs": [
    {
     "name": "stdout",
     "output_type": "stream",
     "text": [
      "Coordinates (in nm):\n",
      "---------------------------------------------\n",
      "tensor([[-1.9458,  1.2914, -0.4511],\n",
      "        [-1.8936,  1.3812, -0.4466],\n",
      "        [-1.9597,  1.2669, -0.5512],\n",
      "        ...,\n",
      "        [ 2.3217, -2.1743,  1.2122],\n",
      "        [ 2.2697, -2.0944,  1.2234],\n",
      "        [ 2.4905, -2.2721,  0.8994]])\n",
      "\n",
      "\n",
      "GBn2 Solvation free energy\n",
      "E_\\mathrm{GBn2} (in kJ/mol):\n",
      "---------------------------------------------\n",
      "tensor([-76801.7188])\n",
      "\n",
      "\n",
      "GBn2 Forces\n",
      " -\\nabla_{x} E_\\mathrm{GBn2} (in kJ/mol/nm):\n",
      "---------------------------------------------\n",
      "tensor([[  20.9618, -123.1268,   83.9408],\n",
      "        [-144.7246,  -91.0444,  -60.6401],\n",
      "        [  36.0034,  126.3221,   63.0963],\n",
      "        ...,\n",
      "        [ 879.9111, -335.8373, -204.7123],\n",
      "        [-641.9651,  383.8910,  147.7843],\n",
      "        [ 561.6282,  252.5732,   66.0976]])\n",
      "\n",
      "\n",
      "Element types (listed as atomic numbers)\n",
      "---------------------------------------------\n",
      "tensor([7, 1, 1,  ..., 8, 1, 8])\n",
      "\n",
      "\n",
      "CHARMM36 atom types (numeric embeddings)\n",
      "---------------------------------------------\n",
      "tensor([63, 17, 19,  ..., 77, 43, 80])\n",
      "\n",
      "\n",
      "Number of atoms in sample\n",
      "---------------------------------------------\n",
      "tensor([12346])\n",
      "\n",
      "\n",
      "Unitprot ID of sample\n",
      "---------------------------------------------\n",
      "Q9QZ09\n"
     ]
    }
   ],
   "source": [
    "print(\"Coordinates (in nm):\")\n",
    "print(\"---------------------------------------------\")\n",
    "print(dataset[-1][0])\n",
    "\n",
    "print(\"\\n\\nGBn2 Solvation free energy\")\n",
    "print(\"E_\\mathrm{GBn2} (in kJ/mol):\")\n",
    "print(\"---------------------------------------------\")\n",
    "print(dataset[-1][1])\n",
    "\n",
    "print(\"\\n\\nGBn2 Forces\")\n",
    "print(r\" -\\nabla_{x} E_\\mathrm{GBn2} (in kJ/mol/nm):\")\n",
    "print(\"---------------------------------------------\")\n",
    "print(dataset[-1][2])\n",
    "\n",
    "print(\"\\n\\nElement types (listed as atomic numbers)\")\n",
    "print(\"---------------------------------------------\")\n",
    "print(dataset[-1][3])\n",
    "\n",
    "print(\"\\n\\nCHARMM36 atom types (numeric embeddings)\")\n",
    "print(\"---------------------------------------------\")\n",
    "print(dataset[-1][4])\n",
    "\n",
    "print(\"\\n\\nNumber of atoms in sample\")\n",
    "print(\"---------------------------------------------\")\n",
    "print(dataset[-1][5])\n",
    "\n",
    "print(\"\\n\\nUnitprot ID of sample\")\n",
    "print(\"---------------------------------------------\")\n",
    "print(dataset[-1][6])"
   ]
  },
  {
   "cell_type": "markdown",
   "id": "96c6c850-a896-4374-aaa5-830a929545e3",
   "metadata": {},
   "source": [
    "Example using the variable-sized batch sampler"
   ]
  },
  {
   "cell_type": "markdown",
   "id": "872dc286-e6fb-433a-a8b1-43af5c8e89db",
   "metadata": {},
   "source": [
    "As detailed in our paper, \"variable-sized\" here means that the number of samples in each batch will vary based on a user-set total number of atoms of all samples in the batch"
   ]
  },
  {
   "cell_type": "code",
   "execution_count": 4,
   "id": "1c8ce30c-bceb-45c6-93b9-93b2dc318fa2",
   "metadata": {},
   "outputs": [
    {
     "name": "stdout",
     "output_type": "stream",
     "text": [
      "560\n",
      "224\n",
      "224\n"
     ]
    }
   ],
   "source": [
    "# Set atom limit for the variable-sized batch sampler\n",
    "n_atom_lim = 20000\n",
    "\n",
    "# Set distributed sampler \n",
    "# (need an initial sampler to feed to our code, this serves that purpose)\n",
    "sampler = torch.utils.data.distributed.DistributedSampler(dataset, \n",
    "                                                          num_replicas=1, \n",
    "                                                          rank=0\n",
    "                                                         )\n",
    "\n",
    "# Print length of initial sampler\n",
    "print(len(sampler))\n",
    "\n",
    "# Initialize collation func\n",
    "coll_fn = dsp.collation_func(embed_type='names', # use C36 atom type embedding\n",
    "                             unit='kJ/mol', \n",
    "                             use_forces=False  # Set true to return forces and energies\n",
    "                            )\n",
    "\n",
    "# Build the variable batch loader\n",
    "sampler = vbs.VarBatchSampler(sampler, \n",
    "                              max_batch_size=20, \n",
    "                              n_atom_limit=20000, \n",
    "                              dataset=dataset\n",
    "                             )\n",
    "\n",
    "# Print length of variable batch sampler\n",
    "print(len(sampler))\n",
    "\n",
    "# Create dataloader using sampler\n",
    "loader = torch.utils.data.DataLoader(dataset,\n",
    "                                     collate_fn = coll_fn,\n",
    "                                     batch_sampler = sampler\n",
    "                                    )\n",
    "\n",
    "# Print the length of the dataloader\n",
    "print(len(loader))"
   ]
  },
  {
   "cell_type": "markdown",
   "id": "be687f30-e2d8-4da9-bf9f-97eac29c7c3f",
   "metadata": {},
   "source": [
    "Loop through the dataloader"
   ]
  },
  {
   "cell_type": "code",
   "execution_count": 5,
   "id": "0a45c8ff-9b16-438f-b573-56c56cb4fbad",
   "metadata": {},
   "outputs": [],
   "source": [
    "for i, batch in enumerate(loader):\n",
    "    continue"
   ]
  },
  {
   "cell_type": "markdown",
   "id": "ffbbe0cb-81ea-4bc2-87aa-ba69ebb7af1f",
   "metadata": {},
   "source": [
    "Print batch to show structure of data from dataloader"
   ]
  },
  {
   "cell_type": "code",
   "execution_count": 6,
   "id": "f1fa9090-aee9-4ec8-afd4-5e3619149809",
   "metadata": {},
   "outputs": [
    {
     "name": "stdout",
     "output_type": "stream",
     "text": [
      "Coordinates (in nm):\n",
      "---------------------------------------------\n",
      "tensor([[-0.9248, -0.7053, -2.3402],\n",
      "        [-0.8331, -0.7499, -2.3612],\n",
      "        [-0.9931, -0.7796, -2.3151],\n",
      "        ...,\n",
      "        [-0.8798, -2.0542,  2.7118],\n",
      "        [-0.5129, -2.2165,  2.7655],\n",
      "        [-0.4584, -2.0077,  2.8084]])\n",
      "\n",
      "\n",
      "GBn2 Solvation free energy\n",
      "E_\\mathrm{GBn2} (in kJ/mol):\n",
      "---------------------------------------------\n",
      "tensor([-20616.3789, -38702.4258, -23591.6133])\n",
      "\n",
      "\n",
      "CHARMM36 atom types (numeric embeddings)\n",
      "---------------------------------------------\n",
      "tensor([63, 17, 19,  ..., 27, 72, 80])\n",
      "\n",
      "\n",
      "Number of atoms in sample\n",
      "---------------------------------------------\n",
      "tensor([4808, 6196, 8037])\n",
      "\n",
      "\n",
      "Batch tensor indicating which sample\n",
      "each atom belongs to\n",
      "---------------------------------------------\n",
      "tensor([0, 0, 0,  ..., 2, 2, 2])\n"
     ]
    }
   ],
   "source": [
    "print(\"Coordinates (in nm):\")\n",
    "print(\"---------------------------------------------\")\n",
    "print(batch[0])\n",
    "\n",
    "print(\"\\n\\nGBn2 Solvation free energy\")\n",
    "print(\"E_\\mathrm{GBn2} (in kJ/mol):\")\n",
    "print(\"---------------------------------------------\")\n",
    "print(batch[1])\n",
    "\n",
    "print(\"\\n\\nCHARMM36 atom types (numeric embeddings)\")\n",
    "print(\"---------------------------------------------\")\n",
    "print(batch[2])\n",
    "\n",
    "print(\"\\n\\nNumber of atoms in sample\")\n",
    "print(\"---------------------------------------------\")\n",
    "print(batch[3])\n",
    "\n",
    "print(\"\\n\\nBatch tensor indicating which sample\")\n",
    "print(\"each atom belongs to\")\n",
    "print(\"---------------------------------------------\")\n",
    "print(batch[4])\n"
   ]
  },
  {
   "cell_type": "code",
   "execution_count": null,
   "id": "8528974b-5fdf-4d52-a33e-9a29ccab1cb8",
   "metadata": {},
   "outputs": [],
   "source": []
  }
 ],
 "metadata": {
  "kernelspec": {
   "display_name": "Python [conda env:GNN_2023]",
   "language": "python",
   "name": "conda-env-GNN_2023-py"
  },
  "language_info": {
   "codemirror_mode": {
    "name": "ipython",
    "version": 3
   },
   "file_extension": ".py",
   "mimetype": "text/x-python",
   "name": "python",
   "nbconvert_exporter": "python",
   "pygments_lexer": "ipython3",
   "version": "3.11.5"
  }
 },
 "nbformat": 4,
 "nbformat_minor": 5
}
